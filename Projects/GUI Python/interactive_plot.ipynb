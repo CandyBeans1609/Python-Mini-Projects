{
 "cells": [
  {
   "cell_type": "markdown",
   "metadata": {},
   "source": [
    " ## Interactive Plotting of a System of Lines\n"
   ]
  },
  {
   "cell_type": "markdown",
   "metadata": {},
   "source": [
    "\n",
    "\n",
    "This code allows for the interactive plotting of a system of up to three lines, where the parameters for each line can be adjusted in real-time using sliders. The x-axis range can also be customized, ensuring that all lines fit well within the visible grid. The general form of the line equation is:\n",
    "\n",
    "$$\n",
    "y = mx + c\n",
    "$$\n",
    "\n",
    "where:\n",
    "- \\( m \\) is the slope of the line,\n",
    "- \\( c \\) is the y-intercept of the line.\n",
    "\n",
    "Each line is plotted with a distinct color for easy identification, and the plot updates dynamically as the slider values are changed.\n"
   ]
  },
  {
   "cell_type": "markdown",
   "metadata": {},
   "source": [
    "### Imports\n",
    "\n",
    "First, we import the needed things from IPython, NumPy, Matplotlib and SciPy."
   ]
  },
  {
   "cell_type": "code",
   "execution_count": 24,
   "metadata": {},
   "outputs": [],
   "source": [
    "%matplotlib inline\n",
    "from ipywidgets import interact, interactive, IntSlider, FloatSlider\n",
    "from IPython.display import display\n",
    "import numpy as np\n",
    "from matplotlib import pyplot as plt\n"
   ]
  },
  {
   "cell_type": "markdown",
   "metadata": {},
   "source": [
    "### Plotting the System of Lines\n",
    "\n",
    "We define a function that calculates the y-values of the lines and then plots the results. This function has arguments that control the parameters of the lines (m1, c1, m2, c2, m3, c3), the range of x-values (x_min, x_max), and the number of points (N). Each line is plotted with a distinct color for clear visualization."
   ]
  },
  {
   "cell_type": "code",
   "execution_count": 25,
   "metadata": {},
   "outputs": [],
   "source": [
    "# Function to calculate and plot the system of lines\n",
    "def plot_lines(N=100, x_min=-10, x_max=10, \n",
    "                m1=1.0, c1=0.0,\n",
    "                m2=-1.0, c2=5.0,\n",
    "                m3=0.5, c3=-3.0):\n",
    "    fig, ax = plt.subplots()\n",
    "    \n",
    "    # Prepare the x-values\n",
    "    x = np.linspace(x_min, x_max, N)\n",
    "    \n",
    "    # Define different sets of parameters for each line\n",
    "    lines = [\n",
    "        ((m1, c1), 'red'),    # Line 1: Red\n",
    "        ((m2, c2), 'blue'),   # Line 2: Blue\n",
    "        ((m3, c3), 'green')   # Line 3: Green\n",
    "    ]\n",
    "    \n",
    "    # Initialize lists to collect y-values for all lines\n",
    "    all_y = []\n",
    "    \n",
    "    # Plot each line with its distinct color\n",
    "    for (m, c), color in lines:\n",
    "        y = m * x + c\n",
    "        ax.plot(x, y, color=color, label=f'Line {lines.index(((m, c), color)) + 1}: y = {m}x + {c}')\n",
    "        all_y.append(y)\n",
    "    \n",
    "    # Calculate overall y-axis limits\n",
    "    all_y = np.concatenate(all_y)\n",
    "    y_min, y_max = all_y.min(), all_y.max()\n",
    "    \n",
    "    # Set the axes limits with some margin\n",
    "    margin = (y_max - y_min) * 0.1\n",
    "    ax.set_xlim((x_min, x_max))\n",
    "    ax.set_ylim((y_min - margin, y_max + margin))\n",
    "\n",
    "    # Adding grid lines and legends for better visual distinction\n",
    "    ax.axhline(0, color='black', linewidth=0.5)\n",
    "    ax.axvline(0, color='black', linewidth=0.5)\n",
    "    ax.legend()\n",
    "\n",
    "    plt.grid(True)\n",
    "    plt.show()\n"
   ]
  },
  {
   "cell_type": "markdown",
   "metadata": {},
   "source": [
    "### Create Interactive Sliders for the Parameters\n",
    "\n",
    "This section generates sliders that allow users to adjust the parameters of the lines (slopes \\(m\\) and intercepts \\(c\\)) and the range of x-values interactively. It provides real-time updates to the plot based on the slider values, enabling dynamic visualization of the changes in the system of lines."
   ]
  },
  {
   "cell_type": "code",
   "execution_count": 26,
   "metadata": {},
   "outputs": [],
   "source": [
    "w = interactive(plot_lines, \n",
    "                N=IntSlider(min=10, max=500, step=10, value=100, description='Points:'), \n",
    "                x_min=IntSlider(min=-20, max=0, step=1, value=-10, description='x_min:'),\n",
    "                x_max=IntSlider(min=0, max=20, step=1, value=10, description='x_max:'),\n",
    "                m1=FloatSlider(min=-2.0, max=2.0, step=0.1, value=1.0, description='m1:'),\n",
    "                c1=FloatSlider(min=-10.0, max=10.0, step=0.1, value=0.0, description='c1:'),\n",
    "                m2=FloatSlider(min=-2.0, max=2.0, step=0.1, value=-1.0, description='m2:'),\n",
    "                c2=FloatSlider(min=-10.0, max=10.0, step=0.1, value=5.0, description='c2:'),\n",
    "                m3=FloatSlider(min=-2.0, max=2.0, step=0.1, value=0.5, description='m3:'),\n",
    "                c3=FloatSlider(min=-10.0, max=10.0, step=0.1, value=-3.0, description='c3:'))"
   ]
  },
  {
   "cell_type": "markdown",
   "metadata": {},
   "source": [
    "### Display the interactive widget\n",
    "\n",
    "This line renders the interactive sliders and plot in the notebook, allowing users to manipulate the parameters\n",
    "and visualize the changes in real-time.\n"
   ]
  },
  {
   "cell_type": "code",
   "execution_count": 27,
   "metadata": {},
   "outputs": [
    {
     "data": {
      "application/vnd.jupyter.widget-view+json": {
       "model_id": "5c9f6559cda84f69864cb18899d28235",
       "version_major": 2,
       "version_minor": 0
      },
      "text/plain": [
       "interactive(children=(IntSlider(value=100, description='Points:', max=500, min=10, step=10), IntSlider(value=-…"
      ]
     },
     "metadata": {},
     "output_type": "display_data"
    }
   ],
   "source": [
    "display(w)"
   ]
  },
  {
   "cell_type": "code",
   "execution_count": null,
   "metadata": {},
   "outputs": [],
   "source": []
  }
 ],
 "metadata": {
  "kernelspec": {
   "display_name": "base",
   "language": "python",
   "name": "python3"
  },
  "language_info": {
   "codemirror_mode": {
    "name": "ipython",
    "version": 3
   },
   "file_extension": ".py",
   "mimetype": "text/x-python",
   "name": "python",
   "nbconvert_exporter": "python",
   "pygments_lexer": "ipython3",
   "version": "3.12.3"
  }
 },
 "nbformat": 4,
 "nbformat_minor": 2
}
